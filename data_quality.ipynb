{
 "cells": [
  {
   "cell_type": "code",
   "execution_count": 1,
   "metadata": {},
   "outputs": [
    {
     "data": {
      "text/html": [
       "<h2 style='font-size: 20px;'>Quick Info</h2>"
      ],
      "text/plain": [
       "<IPython.core.display.HTML object>"
      ]
     },
     "metadata": {},
     "output_type": "display_data"
    },
    {
     "data": {
      "text/html": [
       "<style type=\"text/css\">\n",
       "</style>\n",
       "<table id=\"T_15bb0\" style=\"font-size: 16px;\">\n",
       "  <thead>\n",
       "    <tr>\n",
       "      <th class=\"blank level0\" >&nbsp;</th>\n",
       "      <th id=\"T_15bb0_level0_col0\" class=\"col_heading level0 col0\" >Descrição</th>\n",
       "      <th id=\"T_15bb0_level0_col1\" class=\"col_heading level0 col1\" >Contagem</th>\n",
       "    </tr>\n",
       "  </thead>\n",
       "  <tbody>\n",
       "    <tr>\n",
       "      <th id=\"T_15bb0_level0_row0\" class=\"row_heading level0 row0\" >0</th>\n",
       "      <td id=\"T_15bb0_row0_col0\" class=\"data row0 col0\" >Linhas</td>\n",
       "      <td id=\"T_15bb0_row0_col1\" class=\"data row0 col1\" >301</td>\n",
       "    </tr>\n",
       "    <tr>\n",
       "      <th id=\"T_15bb0_level0_row1\" class=\"row_heading level0 row1\" >1</th>\n",
       "      <td id=\"T_15bb0_row1_col0\" class=\"data row1 col0\" >Colunas</td>\n",
       "      <td id=\"T_15bb0_row1_col1\" class=\"data row1 col1\" >8</td>\n",
       "    </tr>\n",
       "    <tr>\n",
       "      <th id=\"T_15bb0_level0_row2\" class=\"row_heading level0 row2\" >2</th>\n",
       "      <td id=\"T_15bb0_row2_col0\" class=\"data row2 col0\" >Valores Nulos</td>\n",
       "      <td id=\"T_15bb0_row2_col1\" class=\"data row2 col1\" >24</td>\n",
       "    </tr>\n",
       "    <tr>\n",
       "      <th id=\"T_15bb0_level0_row3\" class=\"row_heading level0 row3\" >3</th>\n",
       "      <td id=\"T_15bb0_row3_col0\" class=\"data row3 col0\" >Linhas Duplicadas</td>\n",
       "      <td id=\"T_15bb0_row3_col1\" class=\"data row3 col1\" >0</td>\n",
       "    </tr>\n",
       "  </tbody>\n",
       "</table>\n"
      ],
      "text/plain": [
       "<pandas.io.formats.style.Styler at 0x117bcbb00>"
      ]
     },
     "metadata": {},
     "output_type": "display_data"
    },
    {
     "data": {
      "text/html": [
       "<h2 style='font-size: 20px;'>Data Types</h2>"
      ],
      "text/plain": [
       "<IPython.core.display.HTML object>"
      ]
     },
     "metadata": {},
     "output_type": "display_data"
    },
    {
     "data": {
      "text/html": [
       "<style type=\"text/css\">\n",
       "</style>\n",
       "<table id=\"T_14b33\" style=\"font-size: 16px;\">\n",
       "  <thead>\n",
       "    <tr>\n",
       "      <th class=\"blank level0\" >&nbsp;</th>\n",
       "      <th id=\"T_14b33_level0_col0\" class=\"col_heading level0 col0\" >Nome da Coluna</th>\n",
       "      <th id=\"T_14b33_level0_col1\" class=\"col_heading level0 col1\" >Tipo Inferido</th>\n",
       "    </tr>\n",
       "  </thead>\n",
       "  <tbody>\n",
       "    <tr>\n",
       "      <th id=\"T_14b33_level0_row0\" class=\"row_heading level0 row0\" >0</th>\n",
       "      <td id=\"T_14b33_row0_col0\" class=\"data row0 col0\" >S.NO</td>\n",
       "      <td id=\"T_14b33_row0_col1\" class=\"data row0 col1\" >numeric</td>\n",
       "    </tr>\n",
       "    <tr>\n",
       "      <th id=\"T_14b33_level0_row1\" class=\"row_heading level0 row1\" >1</th>\n",
       "      <td id=\"T_14b33_row1_col0\" class=\"data row1 col0\" >Name</td>\n",
       "      <td id=\"T_14b33_row1_col1\" class=\"data row1 col1\" >categorical</td>\n",
       "    </tr>\n",
       "    <tr>\n",
       "      <th id=\"T_14b33_level0_row2\" class=\"row_heading level0 row2\" >2</th>\n",
       "      <td id=\"T_14b33_row2_col0\" class=\"data row2 col0\" >Nationality</td>\n",
       "      <td id=\"T_14b33_row2_col1\" class=\"data row2 col1\" >categorical</td>\n",
       "    </tr>\n",
       "    <tr>\n",
       "      <th id=\"T_14b33_level0_row3\" class=\"row_heading level0 row3\" >3</th>\n",
       "      <td id=\"T_14b33_row3_col0\" class=\"data row3 col0\" >Current Rank</td>\n",
       "      <td id=\"T_14b33_row3_col1\" class=\"data row3 col1\" >numeric</td>\n",
       "    </tr>\n",
       "    <tr>\n",
       "      <th id=\"T_14b33_level0_row4\" class=\"row_heading level0 row4\" >4</th>\n",
       "      <td id=\"T_14b33_row4_col0\" class=\"data row4 col0\" >Previous Year Rank</td>\n",
       "      <td id=\"T_14b33_row4_col1\" class=\"data row4 col1\" >categorical</td>\n",
       "    </tr>\n",
       "    <tr>\n",
       "      <th id=\"T_14b33_level0_row5\" class=\"row_heading level0 row5\" >5</th>\n",
       "      <td id=\"T_14b33_row5_col0\" class=\"data row5 col0\" >Sport</td>\n",
       "      <td id=\"T_14b33_row5_col1\" class=\"data row5 col1\" >categorical</td>\n",
       "    </tr>\n",
       "    <tr>\n",
       "      <th id=\"T_14b33_level0_row6\" class=\"row_heading level0 row6\" >6</th>\n",
       "      <td id=\"T_14b33_row6_col0\" class=\"data row6 col0\" >Year</td>\n",
       "      <td id=\"T_14b33_row6_col1\" class=\"data row6 col1\" >numeric</td>\n",
       "    </tr>\n",
       "    <tr>\n",
       "      <th id=\"T_14b33_level0_row7\" class=\"row_heading level0 row7\" >7</th>\n",
       "      <td id=\"T_14b33_row7_col0\" class=\"data row7 col0\" >earnings ($ million)</td>\n",
       "      <td id=\"T_14b33_row7_col1\" class=\"data row7 col1\" >numeric</td>\n",
       "    </tr>\n",
       "  </tbody>\n",
       "</table>\n"
      ],
      "text/plain": [
       "<pandas.io.formats.style.Styler at 0x117cb8ad0>"
      ]
     },
     "metadata": {},
     "output_type": "display_data"
    },
    {
     "data": {
      "text/html": [
       "<h2 style='font-size: 20px;'>Data Preview</h2>"
      ],
      "text/plain": [
       "<IPython.core.display.HTML object>"
      ]
     },
     "metadata": {},
     "output_type": "display_data"
    },
    {
     "data": {
      "text/html": [
       "<h3 style='font-size: 20px;'>As 10 primeiras linhas: </h3>"
      ],
      "text/plain": [
       "<IPython.core.display.HTML object>"
      ]
     },
     "metadata": {},
     "output_type": "display_data"
    },
    {
     "data": {
      "text/html": [
       "<style type=\"text/css\">\n",
       "</style>\n",
       "<table id=\"T_1c0d2\" style=\"font-size: 16px;\">\n",
       "  <thead>\n",
       "    <tr>\n",
       "      <th class=\"blank level0\" >&nbsp;</th>\n",
       "      <th id=\"T_1c0d2_level0_col0\" class=\"col_heading level0 col0\" >S.NO</th>\n",
       "      <th id=\"T_1c0d2_level0_col1\" class=\"col_heading level0 col1\" >Name</th>\n",
       "      <th id=\"T_1c0d2_level0_col2\" class=\"col_heading level0 col2\" >Nationality</th>\n",
       "      <th id=\"T_1c0d2_level0_col3\" class=\"col_heading level0 col3\" >Current Rank</th>\n",
       "      <th id=\"T_1c0d2_level0_col4\" class=\"col_heading level0 col4\" >Previous Year Rank</th>\n",
       "      <th id=\"T_1c0d2_level0_col5\" class=\"col_heading level0 col5\" >Sport</th>\n",
       "      <th id=\"T_1c0d2_level0_col6\" class=\"col_heading level0 col6\" >Year</th>\n",
       "      <th id=\"T_1c0d2_level0_col7\" class=\"col_heading level0 col7\" >earnings ($ million)</th>\n",
       "    </tr>\n",
       "  </thead>\n",
       "  <tbody>\n",
       "    <tr>\n",
       "      <th id=\"T_1c0d2_level0_row0\" class=\"row_heading level0 row0\" >0</th>\n",
       "      <td id=\"T_1c0d2_row0_col0\" class=\"data row0 col0\" >1</td>\n",
       "      <td id=\"T_1c0d2_row0_col1\" class=\"data row0 col1\" >Mike Tyson</td>\n",
       "      <td id=\"T_1c0d2_row0_col2\" class=\"data row0 col2\" >USA</td>\n",
       "      <td id=\"T_1c0d2_row0_col3\" class=\"data row0 col3\" >1</td>\n",
       "      <td id=\"T_1c0d2_row0_col4\" class=\"data row0 col4\" >nan</td>\n",
       "      <td id=\"T_1c0d2_row0_col5\" class=\"data row0 col5\" >boxing</td>\n",
       "      <td id=\"T_1c0d2_row0_col6\" class=\"data row0 col6\" >1990</td>\n",
       "      <td id=\"T_1c0d2_row0_col7\" class=\"data row0 col7\" >28.600000</td>\n",
       "    </tr>\n",
       "    <tr>\n",
       "      <th id=\"T_1c0d2_level0_row1\" class=\"row_heading level0 row1\" >1</th>\n",
       "      <td id=\"T_1c0d2_row1_col0\" class=\"data row1 col0\" >2</td>\n",
       "      <td id=\"T_1c0d2_row1_col1\" class=\"data row1 col1\" >Buster Douglas</td>\n",
       "      <td id=\"T_1c0d2_row1_col2\" class=\"data row1 col2\" >USA</td>\n",
       "      <td id=\"T_1c0d2_row1_col3\" class=\"data row1 col3\" >2</td>\n",
       "      <td id=\"T_1c0d2_row1_col4\" class=\"data row1 col4\" >nan</td>\n",
       "      <td id=\"T_1c0d2_row1_col5\" class=\"data row1 col5\" >boxing</td>\n",
       "      <td id=\"T_1c0d2_row1_col6\" class=\"data row1 col6\" >1990</td>\n",
       "      <td id=\"T_1c0d2_row1_col7\" class=\"data row1 col7\" >26.000000</td>\n",
       "    </tr>\n",
       "    <tr>\n",
       "      <th id=\"T_1c0d2_level0_row2\" class=\"row_heading level0 row2\" >2</th>\n",
       "      <td id=\"T_1c0d2_row2_col0\" class=\"data row2 col0\" >3</td>\n",
       "      <td id=\"T_1c0d2_row2_col1\" class=\"data row2 col1\" >Sugar Ray Leonard</td>\n",
       "      <td id=\"T_1c0d2_row2_col2\" class=\"data row2 col2\" >USA</td>\n",
       "      <td id=\"T_1c0d2_row2_col3\" class=\"data row2 col3\" >3</td>\n",
       "      <td id=\"T_1c0d2_row2_col4\" class=\"data row2 col4\" >nan</td>\n",
       "      <td id=\"T_1c0d2_row2_col5\" class=\"data row2 col5\" >boxing</td>\n",
       "      <td id=\"T_1c0d2_row2_col6\" class=\"data row2 col6\" >1990</td>\n",
       "      <td id=\"T_1c0d2_row2_col7\" class=\"data row2 col7\" >13.000000</td>\n",
       "    </tr>\n",
       "    <tr>\n",
       "      <th id=\"T_1c0d2_level0_row3\" class=\"row_heading level0 row3\" >3</th>\n",
       "      <td id=\"T_1c0d2_row3_col0\" class=\"data row3 col0\" >4</td>\n",
       "      <td id=\"T_1c0d2_row3_col1\" class=\"data row3 col1\" >Ayrton Senna</td>\n",
       "      <td id=\"T_1c0d2_row3_col2\" class=\"data row3 col2\" >Brazil</td>\n",
       "      <td id=\"T_1c0d2_row3_col3\" class=\"data row3 col3\" >4</td>\n",
       "      <td id=\"T_1c0d2_row3_col4\" class=\"data row3 col4\" >nan</td>\n",
       "      <td id=\"T_1c0d2_row3_col5\" class=\"data row3 col5\" >auto racing</td>\n",
       "      <td id=\"T_1c0d2_row3_col6\" class=\"data row3 col6\" >1990</td>\n",
       "      <td id=\"T_1c0d2_row3_col7\" class=\"data row3 col7\" >10.000000</td>\n",
       "    </tr>\n",
       "    <tr>\n",
       "      <th id=\"T_1c0d2_level0_row4\" class=\"row_heading level0 row4\" >4</th>\n",
       "      <td id=\"T_1c0d2_row4_col0\" class=\"data row4 col0\" >5</td>\n",
       "      <td id=\"T_1c0d2_row4_col1\" class=\"data row4 col1\" >Alain Prost</td>\n",
       "      <td id=\"T_1c0d2_row4_col2\" class=\"data row4 col2\" >France</td>\n",
       "      <td id=\"T_1c0d2_row4_col3\" class=\"data row4 col3\" >5</td>\n",
       "      <td id=\"T_1c0d2_row4_col4\" class=\"data row4 col4\" >nan</td>\n",
       "      <td id=\"T_1c0d2_row4_col5\" class=\"data row4 col5\" >auto racing</td>\n",
       "      <td id=\"T_1c0d2_row4_col6\" class=\"data row4 col6\" >1990</td>\n",
       "      <td id=\"T_1c0d2_row4_col7\" class=\"data row4 col7\" >9.000000</td>\n",
       "    </tr>\n",
       "    <tr>\n",
       "      <th id=\"T_1c0d2_level0_row5\" class=\"row_heading level0 row5\" >5</th>\n",
       "      <td id=\"T_1c0d2_row5_col0\" class=\"data row5 col0\" >6</td>\n",
       "      <td id=\"T_1c0d2_row5_col1\" class=\"data row5 col1\" >Jack Nicklaus</td>\n",
       "      <td id=\"T_1c0d2_row5_col2\" class=\"data row5 col2\" >USA</td>\n",
       "      <td id=\"T_1c0d2_row5_col3\" class=\"data row5 col3\" >6</td>\n",
       "      <td id=\"T_1c0d2_row5_col4\" class=\"data row5 col4\" >nan</td>\n",
       "      <td id=\"T_1c0d2_row5_col5\" class=\"data row5 col5\" >golf</td>\n",
       "      <td id=\"T_1c0d2_row5_col6\" class=\"data row5 col6\" >1990</td>\n",
       "      <td id=\"T_1c0d2_row5_col7\" class=\"data row5 col7\" >8.600000</td>\n",
       "    </tr>\n",
       "    <tr>\n",
       "      <th id=\"T_1c0d2_level0_row6\" class=\"row_heading level0 row6\" >6</th>\n",
       "      <td id=\"T_1c0d2_row6_col0\" class=\"data row6 col0\" >7</td>\n",
       "      <td id=\"T_1c0d2_row6_col1\" class=\"data row6 col1\" >Greg Norman</td>\n",
       "      <td id=\"T_1c0d2_row6_col2\" class=\"data row6 col2\" >Australia</td>\n",
       "      <td id=\"T_1c0d2_row6_col3\" class=\"data row6 col3\" >7</td>\n",
       "      <td id=\"T_1c0d2_row6_col4\" class=\"data row6 col4\" >nan</td>\n",
       "      <td id=\"T_1c0d2_row6_col5\" class=\"data row6 col5\" >golf</td>\n",
       "      <td id=\"T_1c0d2_row6_col6\" class=\"data row6 col6\" >1990</td>\n",
       "      <td id=\"T_1c0d2_row6_col7\" class=\"data row6 col7\" >8.500000</td>\n",
       "    </tr>\n",
       "    <tr>\n",
       "      <th id=\"T_1c0d2_level0_row7\" class=\"row_heading level0 row7\" >7</th>\n",
       "      <td id=\"T_1c0d2_row7_col0\" class=\"data row7 col0\" >8</td>\n",
       "      <td id=\"T_1c0d2_row7_col1\" class=\"data row7 col1\" >Michael Jordan</td>\n",
       "      <td id=\"T_1c0d2_row7_col2\" class=\"data row7 col2\" >USA</td>\n",
       "      <td id=\"T_1c0d2_row7_col3\" class=\"data row7 col3\" >8</td>\n",
       "      <td id=\"T_1c0d2_row7_col4\" class=\"data row7 col4\" >nan</td>\n",
       "      <td id=\"T_1c0d2_row7_col5\" class=\"data row7 col5\" >basketball</td>\n",
       "      <td id=\"T_1c0d2_row7_col6\" class=\"data row7 col6\" >1990</td>\n",
       "      <td id=\"T_1c0d2_row7_col7\" class=\"data row7 col7\" >8.100000</td>\n",
       "    </tr>\n",
       "    <tr>\n",
       "      <th id=\"T_1c0d2_level0_row8\" class=\"row_heading level0 row8\" >8</th>\n",
       "      <td id=\"T_1c0d2_row8_col0\" class=\"data row8 col0\" >9</td>\n",
       "      <td id=\"T_1c0d2_row8_col1\" class=\"data row8 col1\" >Arnold Palmer</td>\n",
       "      <td id=\"T_1c0d2_row8_col2\" class=\"data row8 col2\" >USA</td>\n",
       "      <td id=\"T_1c0d2_row8_col3\" class=\"data row8 col3\" >8</td>\n",
       "      <td id=\"T_1c0d2_row8_col4\" class=\"data row8 col4\" >nan</td>\n",
       "      <td id=\"T_1c0d2_row8_col5\" class=\"data row8 col5\" >golf</td>\n",
       "      <td id=\"T_1c0d2_row8_col6\" class=\"data row8 col6\" >1990</td>\n",
       "      <td id=\"T_1c0d2_row8_col7\" class=\"data row8 col7\" >8.100000</td>\n",
       "    </tr>\n",
       "    <tr>\n",
       "      <th id=\"T_1c0d2_level0_row9\" class=\"row_heading level0 row9\" >9</th>\n",
       "      <td id=\"T_1c0d2_row9_col0\" class=\"data row9 col0\" >10</td>\n",
       "      <td id=\"T_1c0d2_row9_col1\" class=\"data row9 col1\" >Evander Holyfield</td>\n",
       "      <td id=\"T_1c0d2_row9_col2\" class=\"data row9 col2\" >USA</td>\n",
       "      <td id=\"T_1c0d2_row9_col3\" class=\"data row9 col3\" >8</td>\n",
       "      <td id=\"T_1c0d2_row9_col4\" class=\"data row9 col4\" >nan</td>\n",
       "      <td id=\"T_1c0d2_row9_col5\" class=\"data row9 col5\" >boxing</td>\n",
       "      <td id=\"T_1c0d2_row9_col6\" class=\"data row9 col6\" >1990</td>\n",
       "      <td id=\"T_1c0d2_row9_col7\" class=\"data row9 col7\" >8.100000</td>\n",
       "    </tr>\n",
       "  </tbody>\n",
       "</table>\n"
      ],
      "text/plain": [
       "<pandas.io.formats.style.Styler at 0x117b6cdd0>"
      ]
     },
     "metadata": {},
     "output_type": "display_data"
    },
    {
     "data": {
      "text/html": [
       "<h3 style='font-size: 20px;'>Valores nulos</h3>"
      ],
      "text/plain": [
       "<IPython.core.display.HTML object>"
      ]
     },
     "metadata": {},
     "output_type": "display_data"
    },
    {
     "data": {
      "text/html": [
       "<style type=\"text/css\">\n",
       "</style>\n",
       "<table id=\"T_fdf4b\" style=\"font-size: 16px;\">\n",
       "  <thead>\n",
       "    <tr>\n",
       "      <th class=\"blank level0\" >&nbsp;</th>\n",
       "      <th id=\"T_fdf4b_level0_col0\" class=\"col_heading level0 col0\" >Nome da Coluna</th>\n",
       "      <th id=\"T_fdf4b_level0_col1\" class=\"col_heading level0 col1\" >Contagem de Nulos</th>\n",
       "      <th id=\"T_fdf4b_level0_col2\" class=\"col_heading level0 col2\" >Percentual de Nulos (%)</th>\n",
       "    </tr>\n",
       "  </thead>\n",
       "  <tbody>\n",
       "    <tr>\n",
       "      <th id=\"T_fdf4b_level0_row0\" class=\"row_heading level0 row0\" >Previous Year Rank</th>\n",
       "      <td id=\"T_fdf4b_row0_col0\" class=\"data row0 col0\" >Previous Year Rank</td>\n",
       "      <td id=\"T_fdf4b_row0_col1\" class=\"data row0 col1\" >24</td>\n",
       "      <td id=\"T_fdf4b_row0_col2\" class=\"data row0 col2\" >7.973422</td>\n",
       "    </tr>\n",
       "    <tr>\n",
       "      <th id=\"T_fdf4b_level0_row1\" class=\"row_heading level0 row1\" >S.NO</th>\n",
       "      <td id=\"T_fdf4b_row1_col0\" class=\"data row1 col0\" >S.NO</td>\n",
       "      <td id=\"T_fdf4b_row1_col1\" class=\"data row1 col1\" >0</td>\n",
       "      <td id=\"T_fdf4b_row1_col2\" class=\"data row1 col2\" >0.000000</td>\n",
       "    </tr>\n",
       "    <tr>\n",
       "      <th id=\"T_fdf4b_level0_row2\" class=\"row_heading level0 row2\" >Name</th>\n",
       "      <td id=\"T_fdf4b_row2_col0\" class=\"data row2 col0\" >Name</td>\n",
       "      <td id=\"T_fdf4b_row2_col1\" class=\"data row2 col1\" >0</td>\n",
       "      <td id=\"T_fdf4b_row2_col2\" class=\"data row2 col2\" >0.000000</td>\n",
       "    </tr>\n",
       "    <tr>\n",
       "      <th id=\"T_fdf4b_level0_row3\" class=\"row_heading level0 row3\" >Nationality</th>\n",
       "      <td id=\"T_fdf4b_row3_col0\" class=\"data row3 col0\" >Nationality</td>\n",
       "      <td id=\"T_fdf4b_row3_col1\" class=\"data row3 col1\" >0</td>\n",
       "      <td id=\"T_fdf4b_row3_col2\" class=\"data row3 col2\" >0.000000</td>\n",
       "    </tr>\n",
       "    <tr>\n",
       "      <th id=\"T_fdf4b_level0_row4\" class=\"row_heading level0 row4\" >Current Rank</th>\n",
       "      <td id=\"T_fdf4b_row4_col0\" class=\"data row4 col0\" >Current Rank</td>\n",
       "      <td id=\"T_fdf4b_row4_col1\" class=\"data row4 col1\" >0</td>\n",
       "      <td id=\"T_fdf4b_row4_col2\" class=\"data row4 col2\" >0.000000</td>\n",
       "    </tr>\n",
       "    <tr>\n",
       "      <th id=\"T_fdf4b_level0_row5\" class=\"row_heading level0 row5\" >Sport</th>\n",
       "      <td id=\"T_fdf4b_row5_col0\" class=\"data row5 col0\" >Sport</td>\n",
       "      <td id=\"T_fdf4b_row5_col1\" class=\"data row5 col1\" >0</td>\n",
       "      <td id=\"T_fdf4b_row5_col2\" class=\"data row5 col2\" >0.000000</td>\n",
       "    </tr>\n",
       "    <tr>\n",
       "      <th id=\"T_fdf4b_level0_row6\" class=\"row_heading level0 row6\" >Year</th>\n",
       "      <td id=\"T_fdf4b_row6_col0\" class=\"data row6 col0\" >Year</td>\n",
       "      <td id=\"T_fdf4b_row6_col1\" class=\"data row6 col1\" >0</td>\n",
       "      <td id=\"T_fdf4b_row6_col2\" class=\"data row6 col2\" >0.000000</td>\n",
       "    </tr>\n",
       "    <tr>\n",
       "      <th id=\"T_fdf4b_level0_row7\" class=\"row_heading level0 row7\" >earnings ($ million)</th>\n",
       "      <td id=\"T_fdf4b_row7_col0\" class=\"data row7 col0\" >earnings ($ million)</td>\n",
       "      <td id=\"T_fdf4b_row7_col1\" class=\"data row7 col1\" >0</td>\n",
       "      <td id=\"T_fdf4b_row7_col2\" class=\"data row7 col2\" >0.000000</td>\n",
       "    </tr>\n",
       "  </tbody>\n",
       "</table>\n"
      ],
      "text/plain": [
       "<pandas.io.formats.style.Styler at 0x117eaf9b0>"
      ]
     },
     "metadata": {},
     "output_type": "display_data"
    },
    {
     "data": {
      "image/png": "[encoded data removed]",
      "text/plain": [
       "<Figure size 1000x600 with 1 Axes>"
      ]
     },
     "metadata": {},
     "output_type": "display_data"
    },
    {
     "data": {
      "text/html": [
       "<h3 style='font-size: 20px;'>Valores Unicos</h3>"
      ],
      "text/plain": [
       "<IPython.core.display.HTML object>"
      ]
     },
     "metadata": {},
     "output_type": "display_data"
    },
    {
     "data": {
      "text/html": [
       "<style type=\"text/css\">\n",
       "</style>\n",
       "<table id=\"T_15403\" style=\"font-size: 16px;\">\n",
       "  <thead>\n",
       "    <tr>\n",
       "      <th class=\"blank level0\" >&nbsp;</th>\n",
       "      <th id=\"T_15403_level0_col0\" class=\"col_heading level0 col0\" >Nome da Coluna</th>\n",
       "      <th id=\"T_15403_level0_col1\" class=\"col_heading level0 col1\" >Valores Únicos</th>\n",
       "    </tr>\n",
       "  </thead>\n",
       "  <tbody>\n",
       "    <tr>\n",
       "      <th id=\"T_15403_level0_row0\" class=\"row_heading level0 row0\" >S.NO</th>\n",
       "      <td id=\"T_15403_row0_col0\" class=\"data row0 col0\" >S.NO</td>\n",
       "      <td id=\"T_15403_row0_col1\" class=\"data row0 col1\" >301</td>\n",
       "    </tr>\n",
       "    <tr>\n",
       "      <th id=\"T_15403_level0_row1\" class=\"row_heading level0 row1\" >earnings ($ million)</th>\n",
       "      <td id=\"T_15403_row1_col0\" class=\"data row1 col0\" >earnings ($ million)</td>\n",
       "      <td id=\"T_15403_row1_col1\" class=\"data row1 col1\" >198</td>\n",
       "    </tr>\n",
       "    <tr>\n",
       "      <th id=\"T_15403_level0_row2\" class=\"row_heading level0 row2\" >Name</th>\n",
       "      <td id=\"T_15403_row2_col0\" class=\"data row2 col0\" >Name</td>\n",
       "      <td id=\"T_15403_row2_col1\" class=\"data row2 col1\" >82</td>\n",
       "    </tr>\n",
       "    <tr>\n",
       "      <th id=\"T_15403_level0_row3\" class=\"row_heading level0 row3\" >Previous Year Rank</th>\n",
       "      <td id=\"T_15403_row3_col0\" class=\"data row3 col0\" >Previous Year Rank</td>\n",
       "      <td id=\"T_15403_row3_col1\" class=\"data row3 col1\" >36</td>\n",
       "    </tr>\n",
       "    <tr>\n",
       "      <th id=\"T_15403_level0_row4\" class=\"row_heading level0 row4\" >Year</th>\n",
       "      <td id=\"T_15403_row4_col0\" class=\"data row4 col0\" >Year</td>\n",
       "      <td id=\"T_15403_row4_col1\" class=\"data row4 col1\" >30</td>\n",
       "    </tr>\n",
       "    <tr>\n",
       "      <th id=\"T_15403_level0_row5\" class=\"row_heading level0 row5\" >Sport</th>\n",
       "      <td id=\"T_15403_row5_col0\" class=\"data row5 col0\" >Sport</td>\n",
       "      <td id=\"T_15403_row5_col1\" class=\"data row5 col1\" >29</td>\n",
       "    </tr>\n",
       "    <tr>\n",
       "      <th id=\"T_15403_level0_row6\" class=\"row_heading level0 row6\" >Nationality</th>\n",
       "      <td id=\"T_15403_row6_col0\" class=\"data row6 col0\" >Nationality</td>\n",
       "      <td id=\"T_15403_row6_col1\" class=\"data row6 col1\" >22</td>\n",
       "    </tr>\n",
       "    <tr>\n",
       "      <th id=\"T_15403_level0_row7\" class=\"row_heading level0 row7\" >Current Rank</th>\n",
       "      <td id=\"T_15403_row7_col0\" class=\"data row7 col0\" >Current Rank</td>\n",
       "      <td id=\"T_15403_row7_col1\" class=\"data row7 col1\" >10</td>\n",
       "    </tr>\n",
       "  </tbody>\n",
       "</table>\n"
      ],
      "text/plain": [
       "<pandas.io.formats.style.Styler at 0x117c69d90>"
      ]
     },
     "metadata": {},
     "output_type": "display_data"
    },
    {
     "data": {
      "image/png": "[encoded data removed]",
      "text/plain": [
       "<Figure size 1000x600 with 1 Axes>"
      ]
     },
     "metadata": {},
     "output_type": "display_data"
    }
   ],
   "source": [
    "import pandas as pd\n",
    "import matplotlib.pyplot as plt\n",
    "from dataquality import DataQuality\n",
    "\n",
    "# Carregar o dataset\n",
    "df = pd.read_csv(\"/Users/danielzunarelli/Desktop/Study/Engenharia de Dados/ADA Tech/datasets/Forbes_Richest_Atheletes_1990_2020.csv\")\n",
    "\n",
    "# Instanciar a classe DataQuality com o dataset\n",
    "data_quality = DataQuality(df)\n",
    "\n",
    "# Chamar os métodos para realizar as análises\n",
    "data_quality.quickinfo()\n",
    "data_quality.datatypes()\n",
    "data_quality.firsts10()\n",
    "data_quality.missing_values()\n",
    "data_quality.unique_values()\n"
   ]
  },
  {
   "cell_type": "code",
   "execution_count": null,
   "metadata": {},
   "outputs": [],
   "source": []
  }
 ],
 "metadata": {
  "kernelspec": {
   "display_name": "Python 3",
   "language": "python",
   "name": "python3"
  },
  "language_info": {
   "codemirror_mode": {
    "name": "ipython",
    "version": 3
   },
   "file_extension": ".py",
   "mimetype": "text/x-python",
   "name": "python",
   "nbconvert_exporter": "python",
   "pygments_lexer": "ipython3",
   "version": "3.12.0"
  }
 },
 "nbformat": 4,
 "nbformat_minor": 2
}
