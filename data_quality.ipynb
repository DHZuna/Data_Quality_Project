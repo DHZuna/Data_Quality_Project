{
 "cells": [
  {
   "cell_type": "code",
   "execution_count": 1,
   "metadata": {},
   "outputs": [
    {
     "name": "stdout",
     "output_type": "stream",
     "text": [
      "Contagem de Linhas e Colunas (Linhas, Colunas):\n",
      " (301, 8)\n",
      "Contagem de valores nulos por coluna:\n",
      " S.NO                     0\n",
      "Name                     0\n",
      "Nationality              0\n",
      "Current Rank             0\n",
      "Previous Year Rank      24\n",
      "Sport                    0\n",
      "Year                     0\n",
      "earnings ($ million)     0\n",
      "dtype: int64\n",
      "Contagem de linhas duplicadas:\n",
      " 0\n"
     ]
    }
   ],
   "source": [
    "# Importar a classe DataQuality do arquivo dataquality.py\n",
    "from dataquality import DataQuality\n",
    "import pandas as pd\n",
    "\n",
    "# Carregar o dataset\n",
    "df = pd.read_csv(\"/Users/danielzunarelli/Desktop/Study/Engenharia de Dados/ADA Tech/datasets/Forbes_Richest_Atheletes_1990_2020.csv\")\n",
    "\n",
    "# Instanciar a classe DataQuality com o dataset\n",
    "dataquality = DataQuality(df)\n",
    "\n",
    "# Chamar os métodos para realizar as análises\n",
    "dataquality.quickinfo() \n"
   ]
  }
 ],
 "metadata": {
  "kernelspec": {
   "display_name": "Python 3",
   "language": "python",
   "name": "python3"
  },
  "language_info": {
   "codemirror_mode": {
    "name": "ipython",
    "version": 3
   },
   "file_extension": ".py",
   "mimetype": "text/x-python",
   "name": "python",
   "nbconvert_exporter": "python",
   "pygments_lexer": "ipython3",
   "version": "3.12.0"
  }
 },
 "nbformat": 4,
 "nbformat_minor": 2
}
